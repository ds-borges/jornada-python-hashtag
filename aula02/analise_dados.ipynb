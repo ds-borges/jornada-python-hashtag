{
 "cells": [
  {
   "cell_type": "markdown",
   "id": "cd749a01",
   "metadata": {},
   "source": [
    "Passo 1 - Pegar a base de dados"
   ]
  },
  {
   "cell_type": "code",
   "execution_count": null,
   "id": "a4bf1cec-64fe-4c8a-97d6-d5395320259d",
   "metadata": {},
   "outputs": [],
   "source": [
    "import pandas as pd\n",
    "\n",
    "tabela = pd.read_csv(\"./documents/cancelamentos.csv\")\n",
    "display(tabela)"
   ]
  },
  {
   "cell_type": "markdown",
   "id": "a6b30894",
   "metadata": {},
   "source": [
    "Passo 2 - Remover os dados desnecessários"
   ]
  },
  {
   "cell_type": "code",
   "execution_count": null,
   "id": "5b56fe84",
   "metadata": {},
   "outputs": [],
   "source": [
    "#Removendo coluna desnecessária\n",
    "tabela = tabela.drop(columns=\"CustomerID\")\n",
    "display(tabela)"
   ]
  },
  {
   "cell_type": "markdown",
   "id": "1dc279d4",
   "metadata": {},
   "source": [
    "Passo 3 - resolver os problemas da base de dados"
   ]
  },
  {
   "cell_type": "code",
   "execution_count": null,
   "id": "7ec8b802",
   "metadata": {},
   "outputs": [],
   "source": [
    "display(tabela.info())\n",
    "#Removendo as linhas que tem valor em branco\n",
    "tabela = tabela.dropna()\n",
    "display(tabela.info())"
   ]
  },
  {
   "cell_type": "markdown",
   "id": "889cb18f",
   "metadata": {},
   "source": [
    "Passo 4 - Análise inicial (Quantos clientes cancelaram, qual o % de clientes)"
   ]
  },
  {
   "cell_type": "code",
   "execution_count": null,
   "id": "ac55c1b6",
   "metadata": {},
   "outputs": [],
   "source": [
    "\n",
    "#Mostrar a quantidade de pessoas que cancelou\n",
    "display(tabela[\"cancelou\"].value_counts())\n",
    "#Mostra em %\n",
    "display(tabela[\"cancelou\"].value_counts(normalize=True))\n",
    "\n"
   ]
  },
  {
   "cell_type": "markdown",
   "id": "8982307a",
   "metadata": {},
   "source": [
    "Passo 5 - Análise da causa dos cancelamentos"
   ]
  },
  {
   "cell_type": "code",
   "execution_count": null,
   "id": "f6e60adb",
   "metadata": {},
   "outputs": [],
   "source": [
    "import plotly.express as px\n",
    "\n",
    "for coluna in tabela.columns:\n",
    "    grafico = px.histogram(tabela, x=coluna, color=\"cancelou\")\n",
    "    grafico.show()"
   ]
  },
  {
   "cell_type": "markdown",
   "id": "d33fda6e",
   "metadata": {},
   "source": [
    "Análise exploratória de casos"
   ]
  },
  {
   "cell_type": "code",
   "execution_count": null,
   "id": "4aeef271",
   "metadata": {},
   "outputs": [],
   "source": [
    "#Clientes que ligaram mais de 4 vezes foram levados a cancelar\n",
    "    #Como ficaria se não ligasse tanto ? \n",
    "#ligações de callcenter sendo menor que 4\n",
    "tabela=tabela[tabela[\"ligacoes_callcenter\"]<4]\n",
    "\n",
    "#Clientes que deixaram atrasar por mais de 20 dias cancelaram o serviço\n",
    "    #Como seria se os clientes não atrasassem tanto?\n",
    "#dias de atraso sendo menor que 20\n",
    "tabela=tabela[tabela[\"dias_atraso\"]<20]\n",
    "\n",
    "#Todos os clientes com contrato mensaal cancelaram\n",
    "    #Se os clientes migrassem para outro plano?\n",
    "#O tipo de contrato é Anual ou quadrimestral\n",
    "tabela=tabela[tabela[\"duracao_contrato\"]!=\"Monthly\"]\n",
    "\n",
    "#Clientes que gastaram mais de 500 reais tiveram menor taxa se cancelmento\n",
    "    #Se o cliente for fidelizado? \n",
    "#O cliente já gastou um valor acima de 500\n",
    "tabela=tabela[tabela[\"total_gasto\"]>500]\n",
    "\n",
    "display(tabela[\"cancelou\"].value_counts(normalize=True))\n"
   ]
  }
 ],
 "metadata": {
  "kernelspec": {
   "display_name": "aula02-py3.13",
   "language": "python",
   "name": "python3"
  },
  "language_info": {
   "codemirror_mode": {
    "name": "ipython",
    "version": 3
   },
   "file_extension": ".py",
   "mimetype": "text/x-python",
   "name": "python",
   "nbconvert_exporter": "python",
   "pygments_lexer": "ipython3",
   "version": "3.13.7"
  }
 },
 "nbformat": 4,
 "nbformat_minor": 5
}
