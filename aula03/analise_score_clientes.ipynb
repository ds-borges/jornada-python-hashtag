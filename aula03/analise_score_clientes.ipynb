{
 "cells": [
  {
   "cell_type": "markdown",
   "id": "e6336b70",
   "metadata": {},
   "source": [
    "# Projeto Python IA: Inteligência Artificial e Previsões\n",
    "\n",
    "### Case: Score de Crédito dos Clientes\n",
    "\n",
    "Passo 0 - Entender o desafio e a empresa\n",
    "\n",
    "    Você foi contratado por um banco para conseguir definir o score de crédito dos clientes. Você precisa analisar todos os clientes do banco e, com base nessa análise, criar um modelo que consiga ler as informações do cliente e dizer automaticamente o score de crédito dele: Ruim, Ok, Bom\n",
    "\n",
    "    Score do cliente\n",
    "        - BOA\n",
    "        - OK\n",
    "        - RUIM"
   ]
  },
  {
   "cell_type": "markdown",
   "id": "df08cc59",
   "metadata": {},
   "source": [
    "Passo 1 - Importar base de dados"
   ]
  },
  {
   "cell_type": "code",
   "execution_count": null,
   "id": "8ade580a",
   "metadata": {},
   "outputs": [],
   "source": [
    "import pandas as pd\n",
    "tabela = pd.read_csv(\"./documents/clientes.csv\")\n",
    "\n",
    "display(tabela)"
   ]
  },
  {
   "cell_type": "markdown",
   "id": "cadd096a",
   "metadata": {},
   "source": [
    "Passo 2 - Preparar a base de dados para a Inteligência Artificial (IA)"
   ]
  },
  {
   "cell_type": "code",
   "execution_count": null,
   "id": "64476520",
   "metadata": {},
   "outputs": [],
   "source": [
    "display(tabela.info())\n",
    "\n",
    "#Campos não podem ser processados como strings\n",
    "\n",
    "from sklearn.preprocessing import LabelEncoder\n",
    "\n",
    "#Preparar o campo profissão\n",
    "codificador_profissao = LabelEncoder()\n",
    "tabela[\"profissao\"] = codificador_profissao.fit_transform(tabela[\"profissao\"])\n",
    "\n",
    "#Preparar o campo mix_credito\n",
    "codificador_credito = LabelEncoder()\n",
    "tabela[\"mix_credito\"] = codificador_credito.fit_transform(tabela[\"mix_credito\"])\n",
    "\n",
    "#Preparar o campo comportamento_pagamento\n",
    "codificador_comportamento_pagamento = LabelEncoder()\n",
    "tabela[\"comportamento_pagamento\"] = codificador_comportamento_pagamento.fit_transform(tabela[\"comportamento_pagamento\"])\n",
    "\n",
    "display(tabela.info())\n",
    "display(tabela)\n"
   ]
  },
  {
   "cell_type": "code",
   "execution_count": null,
   "id": "cf0a9625",
   "metadata": {},
   "outputs": [],
   "source": [
    "y = tabela[\"score_credito\"]\n",
    "\n",
    "x = tabela.drop(columns=[\"score_credito\", \"id_cliente\"])\n",
    "\n",
    "#Separar dados para treinamento de classificação\n",
    "from sklearn.model_selection import train_test_split\n",
    "\n",
    "x_treino, x_teste, y_treino, y_teste = train_test_split(x,y, test_size=0.3)"
   ]
  },
  {
   "cell_type": "markdown",
   "id": "41d714cf",
   "metadata": {},
   "source": [
    "Passo 3 - Criar o modelo de IA -> Prever a nota de credito"
   ]
  },
  {
   "cell_type": "code",
   "execution_count": null,
   "id": "0bba7933",
   "metadata": {},
   "outputs": [],
   "source": [
    "# Arvore de Decisão -> RandomForest\n",
    "# Nearest Neighbors -> KNN -> Vizinhos Próximos\n",
    "\n",
    "#Os passos para trabalhar com IA envolve sempre: \n",
    "# Importar a biblioteca de IA, criar a IA e treina-la\n",
    "\n",
    "# importar as bibliotecas de IA\n",
    "    #Árvore de decisão\n",
    "from sklearn.ensemble import RandomForestClassifier\n",
    "    #Vizinhos próximos\n",
    "from sklearn.neighbors import KNeighborsClassifier\n",
    "\n",
    "# Criar a IA\n",
    "modelo_arvoredecisao = RandomForestClassifier()\n",
    "modelo_knn = KNeighborsClassifier()\n",
    "\n",
    "# Treinar a IA\n",
    "modelo_arvoredecisao.fit(x_treino, y_treino)\n",
    "modelo_knn.fit(x_treino, y_treino)"
   ]
  },
  {
   "cell_type": "markdown",
   "id": "5d70ca15",
   "metadata": {},
   "source": [
    "Passo 4 - Escolher o melhor modelo"
   ]
  },
  {
   "cell_type": "code",
   "execution_count": null,
   "id": "7d4d2de1",
   "metadata": {},
   "outputs": [],
   "source": [
    "#Fazendo as previsões\n",
    "previsao_arvoredecisao = modelo_arvoredecisao.predict(x_teste)\n",
    "previsao_knn = modelo_knn.predict(x_teste)\n",
    "\n",
    "\n",
    "#Acurácia\n",
    "from sklearn.metrics import accuracy_score\n",
    "\n",
    "display(accuracy_score(y_teste, previsao_arvoredecisao))\n",
    "display(accuracy_score(y_teste, previsao_knn))\n"
   ]
  },
  {
   "cell_type": "markdown",
   "id": "2f96b59f",
   "metadata": {},
   "source": [
    "Passo 5 - Fazer novas previsões"
   ]
  },
  {
   "cell_type": "code",
   "execution_count": null,
   "id": "3f841ef3",
   "metadata": {},
   "outputs": [],
   "source": [
    "#Melhor modelo para usar arvore de decisao\n",
    "\n",
    "tabela_novos_clientes = pd.read_csv(\"./documents/novos_clientes.csv\")\n",
    "\n",
    "# Transformar a profissao em números (Tokens)\n",
    "tabela_novos_clientes[\"profissao\"] = codificador_profissao.transform(\n",
    "    tabela_novos_clientes[\"profissao\"])\n",
    "\n",
    "# Transformar mix_credito em números (Tokens)\n",
    "tabela_novos_clientes[\"mix_credito\"] = codificador_credito.transform(\n",
    "    tabela_novos_clientes[\"mix_credito\"])\n",
    "\n",
    "# Transformar comportamento_pagamento me números (Tokens)\n",
    "tabela_novos_clientes[\"comportamento_pagamento\"] = codificador_comportamento_pagamento.transform(\n",
    "    tabela_novos_clientes[\"comportamento_pagamento\"])\n",
    "\n",
    "display(tabela_novos_clientes)\n",
    "\n",
    "nova_previsao = modelo_arvoredecisao.predict(tabela_novos_clientes)\n",
    "display(nova_previsao)\n"
   ]
  },
  {
   "cell_type": "code",
   "execution_count": null,
   "id": "d8da2046",
   "metadata": {},
   "outputs": [],
   "source": []
  }
 ],
 "metadata": {
  "kernelspec": {
   "display_name": ".venv",
   "language": "python",
   "name": "python3"
  },
  "language_info": {
   "codemirror_mode": {
    "name": "ipython",
    "version": 3
   },
   "file_extension": ".py",
   "mimetype": "text/x-python",
   "name": "python",
   "nbconvert_exporter": "python",
   "pygments_lexer": "ipython3",
   "version": "3.13.7"
  }
 },
 "nbformat": 4,
 "nbformat_minor": 5
}
